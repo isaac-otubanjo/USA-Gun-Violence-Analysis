{
 "cells": [
  {
   "cell_type": "markdown",
   "id": "6c78d7a4",
   "metadata": {},
   "source": [
    "## Table of Contents\n",
    "\n",
    "- Importing Libraries\n",
    "- Importing Dataframes\n",
    "- Exploring Dataframes\n",
    "- Subsetting and Wrangling Time Series Data\n",
    "- Answering Other Key Questions"
   ]
  },
  {
   "cell_type": "markdown",
   "id": "54c23b5c",
   "metadata": {},
   "source": [
    "## Importing Libraries"
   ]
  },
  {
   "cell_type": "code",
   "execution_count": 1,
   "id": "9a49e777",
   "metadata": {},
   "outputs": [],
   "source": [
    "import quandl\n",
    "import pandas as pd\n",
    "import numpy as np\n",
    "import seaborn as sns\n",
    "import matplotlib\n",
    "import matplotlib.pyplot as plt\n",
    "import statsmodels.api as sm # Using .api imports the public access version of statsmodels, which is a library that handles \n",
    "# statistical models.\n",
    "import os\n",
    "import warnings # This is a library that handles warnings.\n",
    "\n",
    "warnings.filterwarnings(\"ignore\") # Disable deprecation warnings that could indicate, for instance, a suspended library or \n",
    "# feature. These are more relevant to developers and very seldom to analysts.\n",
    "\n",
    "plt.style.use('fivethirtyeight') # This is a styling option for how your plots will appear. More examples here:\n",
    "# https://matplotlib.org/3.2.1/tutorials/introductory/customizing.html\n",
    "# https://matplotlib.org/3.1.0/gallery/style_sheets/fivethirtyeight.html"
   ]
  },
  {
   "cell_type": "code",
   "execution_count": 2,
   "id": "a15f1ce3",
   "metadata": {},
   "outputs": [],
   "source": [
    "%matplotlib inline"
   ]
  },
  {
   "cell_type": "markdown",
   "id": "b5055d93",
   "metadata": {},
   "source": [
    "## Importing Dataframes"
   ]
  },
  {
   "cell_type": "code",
   "execution_count": 3,
   "id": "fdb5a57a",
   "metadata": {},
   "outputs": [],
   "source": [
    "# Define path\n",
    "path = r'/Users/isaacotubanjo/Documents/US Gun Violence Analysis'"
   ]
  },
  {
   "cell_type": "code",
   "execution_count": 4,
   "id": "4ca3cf5f",
   "metadata": {},
   "outputs": [
    {
     "data": {
      "text/plain": [
       "'/Users/isaacotubanjo/Documents/US Gun Violence Analysis'"
      ]
     },
     "execution_count": 4,
     "metadata": {},
     "output_type": "execute_result"
    }
   ],
   "source": [
    "path"
   ]
  },
  {
   "cell_type": "code",
   "execution_count": 5,
   "id": "05698a12",
   "metadata": {},
   "outputs": [],
   "source": [
    "# Importing dataframe using os path\n",
    "df_gun = pd.read_pickle(os.path.join(path, '02 Data', 'Prepared Data', 'cleaned_gun_violence_data2.pkl'))"
   ]
  },
  {
   "cell_type": "markdown",
   "id": "2824eb65",
   "metadata": {},
   "source": [
    "## Exploring Dataframes"
   ]
  },
  {
   "cell_type": "code",
   "execution_count": 6,
   "id": "69e86b56",
   "metadata": {},
   "outputs": [
    {
     "data": {
      "text/plain": [
       "Index(['incident_id', 'date', 'state', 'city_or_county', 'address',\n",
       "       'number_killed', 'number_injured', 'congressional_district',\n",
       "       'gun_stolen', 'gun_type', 'incident_characteristics', 'latitude',\n",
       "       'location_description', 'longitude', 'number_guns_involved',\n",
       "       'participant_age', 'participant_age_group', 'participant_gender',\n",
       "       'participant_status', 'participant_type', 'state_house_district',\n",
       "       'state_senate_district'],\n",
       "      dtype='object')"
      ]
     },
     "execution_count": 6,
     "metadata": {},
     "output_type": "execute_result"
    }
   ],
   "source": [
    "df_gun.columns"
   ]
  },
  {
   "cell_type": "code",
   "execution_count": 7,
   "id": "c0bcd7e3",
   "metadata": {},
   "outputs": [
    {
     "data": {
      "text/plain": [
       "(231432, 22)"
      ]
     },
     "execution_count": 7,
     "metadata": {},
     "output_type": "execute_result"
    }
   ],
   "source": [
    "df_gun.shape"
   ]
  },
  {
   "cell_type": "code",
   "execution_count": 8,
   "id": "07df647a",
   "metadata": {},
   "outputs": [
    {
     "data": {
      "text/html": [
       "<div>\n",
       "<style scoped>\n",
       "    .dataframe tbody tr th:only-of-type {\n",
       "        vertical-align: middle;\n",
       "    }\n",
       "\n",
       "    .dataframe tbody tr th {\n",
       "        vertical-align: top;\n",
       "    }\n",
       "\n",
       "    .dataframe thead th {\n",
       "        text-align: right;\n",
       "    }\n",
       "</style>\n",
       "<table border=\"1\" class=\"dataframe\">\n",
       "  <thead>\n",
       "    <tr style=\"text-align: right;\">\n",
       "      <th></th>\n",
       "      <th>incident_id</th>\n",
       "      <th>date</th>\n",
       "      <th>state</th>\n",
       "      <th>city_or_county</th>\n",
       "      <th>address</th>\n",
       "      <th>number_killed</th>\n",
       "      <th>number_injured</th>\n",
       "      <th>congressional_district</th>\n",
       "      <th>gun_stolen</th>\n",
       "      <th>gun_type</th>\n",
       "      <th>...</th>\n",
       "      <th>location_description</th>\n",
       "      <th>longitude</th>\n",
       "      <th>number_guns_involved</th>\n",
       "      <th>participant_age</th>\n",
       "      <th>participant_age_group</th>\n",
       "      <th>participant_gender</th>\n",
       "      <th>participant_status</th>\n",
       "      <th>participant_type</th>\n",
       "      <th>state_house_district</th>\n",
       "      <th>state_senate_district</th>\n",
       "    </tr>\n",
       "  </thead>\n",
       "  <tbody>\n",
       "    <tr>\n",
       "      <th>0</th>\n",
       "      <td>461105</td>\n",
       "      <td>2013-01-01</td>\n",
       "      <td>Pennsylvania</td>\n",
       "      <td>Mckeesport</td>\n",
       "      <td>1506 Versailles Avenue and Coursin Street</td>\n",
       "      <td>0</td>\n",
       "      <td>4</td>\n",
       "      <td>14.0</td>\n",
       "      <td>NaN</td>\n",
       "      <td>NaN</td>\n",
       "      <td>...</td>\n",
       "      <td>NaN</td>\n",
       "      <td>-79.8559</td>\n",
       "      <td>1.3</td>\n",
       "      <td>0::20</td>\n",
       "      <td>0::Adult 18+||1::Adult 18+||2::Adult 18+||3::A...</td>\n",
       "      <td>0::Male||1::Male||3::Male||4::Female</td>\n",
       "      <td>0::Arrested||1::Injured||2::Injured||3::Injure...</td>\n",
       "      <td>0::Victim||1::Victim||2::Victim||3::Victim||4:...</td>\n",
       "      <td>55.5</td>\n",
       "      <td>20.5</td>\n",
       "    </tr>\n",
       "    <tr>\n",
       "      <th>1</th>\n",
       "      <td>460726</td>\n",
       "      <td>2013-01-01</td>\n",
       "      <td>California</td>\n",
       "      <td>Hawthorne</td>\n",
       "      <td>13500 block of Cerise Avenue</td>\n",
       "      <td>1</td>\n",
       "      <td>3</td>\n",
       "      <td>43.0</td>\n",
       "      <td>NaN</td>\n",
       "      <td>NaN</td>\n",
       "      <td>...</td>\n",
       "      <td>NaN</td>\n",
       "      <td>-118.3330</td>\n",
       "      <td>1.3</td>\n",
       "      <td>0::20</td>\n",
       "      <td>0::Adult 18+||1::Adult 18+||2::Adult 18+||3::A...</td>\n",
       "      <td>0::Male</td>\n",
       "      <td>0::Killed||1::Injured||2::Injured||3::Injured</td>\n",
       "      <td>0::Victim||1::Victim||2::Victim||3::Victim||4:...</td>\n",
       "      <td>62.0</td>\n",
       "      <td>35.0</td>\n",
       "    </tr>\n",
       "    <tr>\n",
       "      <th>2</th>\n",
       "      <td>478855</td>\n",
       "      <td>2013-01-01</td>\n",
       "      <td>Ohio</td>\n",
       "      <td>Lorain</td>\n",
       "      <td>1776 East 28th Street</td>\n",
       "      <td>1</td>\n",
       "      <td>3</td>\n",
       "      <td>9.0</td>\n",
       "      <td>0::Unknown||1::Unknown</td>\n",
       "      <td>0::Unknown||1::Unknown</td>\n",
       "      <td>...</td>\n",
       "      <td>Cotton Club</td>\n",
       "      <td>-82.1377</td>\n",
       "      <td>2.0</td>\n",
       "      <td>0::25||1::31||2::33||3::34||4::33</td>\n",
       "      <td>0::Adult 18+||1::Adult 18+||2::Adult 18+||3::A...</td>\n",
       "      <td>0::Male||1::Male||2::Male||3::Male||4::Male</td>\n",
       "      <td>0::Injured, Unharmed, Arrested||1::Unharmed, A...</td>\n",
       "      <td>0::Subject-Suspect||1::Subject-Suspect||2::Vic...</td>\n",
       "      <td>56.0</td>\n",
       "      <td>13.0</td>\n",
       "    </tr>\n",
       "    <tr>\n",
       "      <th>3</th>\n",
       "      <td>478925</td>\n",
       "      <td>2013-01-05</td>\n",
       "      <td>Colorado</td>\n",
       "      <td>Aurora</td>\n",
       "      <td>16000 block of East Ithaca Place</td>\n",
       "      <td>4</td>\n",
       "      <td>0</td>\n",
       "      <td>6.0</td>\n",
       "      <td>NaN</td>\n",
       "      <td>NaN</td>\n",
       "      <td>...</td>\n",
       "      <td>NaN</td>\n",
       "      <td>-104.8020</td>\n",
       "      <td>1.3</td>\n",
       "      <td>0::29||1::33||2::56||3::33</td>\n",
       "      <td>0::Adult 18+||1::Adult 18+||2::Adult 18+||3::A...</td>\n",
       "      <td>0::Female||1::Male||2::Male||3::Male</td>\n",
       "      <td>0::Killed||1::Killed||2::Killed||3::Killed</td>\n",
       "      <td>0::Victim||1::Victim||2::Victim||3::Subject-Su...</td>\n",
       "      <td>40.0</td>\n",
       "      <td>28.0</td>\n",
       "    </tr>\n",
       "    <tr>\n",
       "      <th>4</th>\n",
       "      <td>478959</td>\n",
       "      <td>2013-01-07</td>\n",
       "      <td>North Carolina</td>\n",
       "      <td>Greensboro</td>\n",
       "      <td>307 Mourning Dove Terrace</td>\n",
       "      <td>2</td>\n",
       "      <td>2</td>\n",
       "      <td>6.0</td>\n",
       "      <td>0::Unknown||1::Unknown</td>\n",
       "      <td>0::Handgun||1::Handgun</td>\n",
       "      <td>...</td>\n",
       "      <td>NaN</td>\n",
       "      <td>-79.9569</td>\n",
       "      <td>2.0</td>\n",
       "      <td>0::18||1::46||2::14||3::47</td>\n",
       "      <td>0::Adult 18+||1::Adult 18+||2::Teen 12-17||3::...</td>\n",
       "      <td>0::Female||1::Male||2::Male||3::Female</td>\n",
       "      <td>0::Injured||1::Injured||2::Killed||3::Killed</td>\n",
       "      <td>0::Victim||1::Victim||2::Victim||3::Subject-Su...</td>\n",
       "      <td>62.0</td>\n",
       "      <td>27.0</td>\n",
       "    </tr>\n",
       "  </tbody>\n",
       "</table>\n",
       "<p>5 rows × 22 columns</p>\n",
       "</div>"
      ],
      "text/plain": [
       "  incident_id        date           state city_or_county  \\\n",
       "0      461105  2013-01-01    Pennsylvania     Mckeesport   \n",
       "1      460726  2013-01-01      California      Hawthorne   \n",
       "2      478855  2013-01-01            Ohio         Lorain   \n",
       "3      478925  2013-01-05        Colorado         Aurora   \n",
       "4      478959  2013-01-07  North Carolina     Greensboro   \n",
       "\n",
       "                                     address  number_killed  number_injured  \\\n",
       "0  1506 Versailles Avenue and Coursin Street              0               4   \n",
       "1               13500 block of Cerise Avenue              1               3   \n",
       "2                      1776 East 28th Street              1               3   \n",
       "3           16000 block of East Ithaca Place              4               0   \n",
       "4                  307 Mourning Dove Terrace              2               2   \n",
       "\n",
       "   congressional_district              gun_stolen                gun_type  \\\n",
       "0                    14.0                     NaN                     NaN   \n",
       "1                    43.0                     NaN                     NaN   \n",
       "2                     9.0  0::Unknown||1::Unknown  0::Unknown||1::Unknown   \n",
       "3                     6.0                     NaN                     NaN   \n",
       "4                     6.0  0::Unknown||1::Unknown  0::Handgun||1::Handgun   \n",
       "\n",
       "   ... location_description  longitude number_guns_involved  \\\n",
       "0  ...                  NaN   -79.8559                  1.3   \n",
       "1  ...                  NaN  -118.3330                  1.3   \n",
       "2  ...          Cotton Club   -82.1377                  2.0   \n",
       "3  ...                  NaN  -104.8020                  1.3   \n",
       "4  ...                  NaN   -79.9569                  2.0   \n",
       "\n",
       "                     participant_age  \\\n",
       "0                              0::20   \n",
       "1                              0::20   \n",
       "2  0::25||1::31||2::33||3::34||4::33   \n",
       "3         0::29||1::33||2::56||3::33   \n",
       "4         0::18||1::46||2::14||3::47   \n",
       "\n",
       "                               participant_age_group  \\\n",
       "0  0::Adult 18+||1::Adult 18+||2::Adult 18+||3::A...   \n",
       "1  0::Adult 18+||1::Adult 18+||2::Adult 18+||3::A...   \n",
       "2  0::Adult 18+||1::Adult 18+||2::Adult 18+||3::A...   \n",
       "3  0::Adult 18+||1::Adult 18+||2::Adult 18+||3::A...   \n",
       "4  0::Adult 18+||1::Adult 18+||2::Teen 12-17||3::...   \n",
       "\n",
       "                            participant_gender  \\\n",
       "0         0::Male||1::Male||3::Male||4::Female   \n",
       "1                                      0::Male   \n",
       "2  0::Male||1::Male||2::Male||3::Male||4::Male   \n",
       "3         0::Female||1::Male||2::Male||3::Male   \n",
       "4       0::Female||1::Male||2::Male||3::Female   \n",
       "\n",
       "                                  participant_status  \\\n",
       "0  0::Arrested||1::Injured||2::Injured||3::Injure...   \n",
       "1      0::Killed||1::Injured||2::Injured||3::Injured   \n",
       "2  0::Injured, Unharmed, Arrested||1::Unharmed, A...   \n",
       "3         0::Killed||1::Killed||2::Killed||3::Killed   \n",
       "4       0::Injured||1::Injured||2::Killed||3::Killed   \n",
       "\n",
       "                                    participant_type state_house_district  \\\n",
       "0  0::Victim||1::Victim||2::Victim||3::Victim||4:...                 55.5   \n",
       "1  0::Victim||1::Victim||2::Victim||3::Victim||4:...                 62.0   \n",
       "2  0::Subject-Suspect||1::Subject-Suspect||2::Vic...                 56.0   \n",
       "3  0::Victim||1::Victim||2::Victim||3::Subject-Su...                 40.0   \n",
       "4  0::Victim||1::Victim||2::Victim||3::Subject-Su...                 62.0   \n",
       "\n",
       "  state_senate_district  \n",
       "0                  20.5  \n",
       "1                  35.0  \n",
       "2                  13.0  \n",
       "3                  28.0  \n",
       "4                  27.0  \n",
       "\n",
       "[5 rows x 22 columns]"
      ]
     },
     "execution_count": 8,
     "metadata": {},
     "output_type": "execute_result"
    }
   ],
   "source": [
    "df_gun.head()"
   ]
  },
  {
   "cell_type": "code",
   "execution_count": 9,
   "id": "a5445b38",
   "metadata": {},
   "outputs": [
    {
     "data": {
      "text/plain": [
       "NaN                                                                                                                            99263\n",
       "0::Unknown                                                                                                                     87385\n",
       "0::Handgun                                                                                                                     12500\n",
       "0::9mm                                                                                                                          4422\n",
       "0::Unknown||1::Unknown                                                                                                          2268\n",
       "                                                                                                                               ...  \n",
       "0::Handgun||1::Handgun||2::Handgun||3::Handgun||4::12 gauge||5::22 LR||6::30-30 Win||7::Rifle                                      1\n",
       "0::357 Mag||1::22 LR||2::12 gauge||3::9mm                                                                                          1\n",
       "0::45 Auto||1::9mm||2::Shotgun                                                                                                     1\n",
       "0::44 Mag||1::22 LR||2::9mm||3::9mm||4::9mm||5::45 Auto||6::Other||7::9mm||8::357 Mag||9::Unknown||10::Unknown||11::Unknown        1\n",
       "0::25 Auto||1::Shotgun||2::Shotgun||3::Shotgun                                                                                     1\n",
       "Name: gun_type, Length: 2416, dtype: int64"
      ]
     },
     "execution_count": 9,
     "metadata": {},
     "output_type": "execute_result"
    }
   ],
   "source": [
    "# Answering the key question 'What types of firearms are most involved in incidents?'\n",
    "df_gun['gun_type'].value_counts(dropna=False)"
   ]
  },
  {
   "cell_type": "markdown",
   "id": "b8588209",
   "metadata": {},
   "source": [
    "There are a lot of missing values in this column and also there are a lot of instances where the type of firearm is unknown.\n",
    "\n",
    "The most common type of firearm is the handgun which is then followed by the 9mm."
   ]
  },
  {
   "cell_type": "markdown",
   "id": "75216cf0",
   "metadata": {},
   "source": [
    "## Subsetting and Wrangling Time Series Data"
   ]
  },
  {
   "cell_type": "code",
   "execution_count": 12,
   "id": "bc1f5e8b",
   "metadata": {},
   "outputs": [
    {
     "data": {
      "text/plain": [
       "dtype('O')"
      ]
     },
     "execution_count": 12,
     "metadata": {},
     "output_type": "execute_result"
    }
   ],
   "source": [
    "# To answer the key question 'How has the number of gun-related incidents changed over the years?', we can create subsets of the dataframe and look at the trends\n",
    "# First check the datatype for the date column\n",
    "df_gun['date'].dtype"
   ]
  },
  {
   "cell_type": "code",
   "execution_count": 13,
   "id": "ccf22611",
   "metadata": {},
   "outputs": [],
   "source": [
    "# Changing the date column to datetime datatype\n",
    "df_gun['date']=df_gun['date'].astype('datetime64')"
   ]
  },
  {
   "cell_type": "code",
   "execution_count": 14,
   "id": "39013950",
   "metadata": {},
   "outputs": [
    {
     "data": {
      "text/plain": [
       "dtype('<M8[ns]')"
      ]
     },
     "execution_count": 14,
     "metadata": {},
     "output_type": "execute_result"
    }
   ],
   "source": [
    "# Checking results\n",
    "df_gun['date'].dtype"
   ]
  },
  {
   "cell_type": "code",
   "execution_count": 15,
   "id": "dbd0ee59",
   "metadata": {},
   "outputs": [],
   "source": [
    "# Creating subsets for number_killed, number_injured and number_guns_involved columns\n",
    "date_count = df_gun.groupby(df_gun['date'].dt.date)['date'].count()"
   ]
  },
  {
   "cell_type": "code",
   "execution_count": 16,
   "id": "a4be61af",
   "metadata": {},
   "outputs": [
    {
     "data": {
      "text/plain": [
       "date\n",
       "2013-01-01      3\n",
       "2013-01-05      1\n",
       "2013-01-07      2\n",
       "2013-01-19      1\n",
       "2013-01-21      2\n",
       "             ... \n",
       "2018-03-27     94\n",
       "2018-03-28    123\n",
       "2018-03-29     95\n",
       "2018-03-30     84\n",
       "2018-03-31     85\n",
       "Name: date, Length: 1725, dtype: int64"
      ]
     },
     "execution_count": 16,
     "metadata": {},
     "output_type": "execute_result"
    }
   ],
   "source": [
    "date_count"
   ]
  },
  {
   "cell_type": "code",
   "execution_count": 18,
   "id": "6dfa19d6",
   "metadata": {},
   "outputs": [],
   "source": [
    "# Average number_killed per day\n",
    "avg_number_killed_daily = df_gun.groupby('date')['number_killed'].mean()"
   ]
  },
  {
   "cell_type": "code",
   "execution_count": 19,
   "id": "70b63d7b",
   "metadata": {},
   "outputs": [
    {
     "data": {
      "text/plain": [
       "date\n",
       "2013-01-01    0.666667\n",
       "2013-01-05    4.000000\n",
       "2013-01-07    3.000000\n",
       "2013-01-19    5.000000\n",
       "2013-01-21    0.000000\n",
       "                ...   \n",
       "2018-03-27    0.159574\n",
       "2018-03-28    0.235772\n",
       "2018-03-29    0.294737\n",
       "2018-03-30    0.357143\n",
       "2018-03-31    0.505882\n",
       "Name: number_killed, Length: 1725, dtype: float64"
      ]
     },
     "execution_count": 19,
     "metadata": {},
     "output_type": "execute_result"
    }
   ],
   "source": [
    "avg_number_killed_daily"
   ]
  },
  {
   "cell_type": "code",
   "execution_count": 20,
   "id": "96b93537",
   "metadata": {},
   "outputs": [],
   "source": [
    "# merging both subsets\n",
    "result = pd.DataFrame({'date': date_count.index, 'date_count': date_count.values, 'avg_number_deaths': avg_number_killed_daily.values})"
   ]
  },
  {
   "cell_type": "code",
   "execution_count": 22,
   "id": "324f6f50",
   "metadata": {},
   "outputs": [
    {
     "data": {
      "text/html": [
       "<div>\n",
       "<style scoped>\n",
       "    .dataframe tbody tr th:only-of-type {\n",
       "        vertical-align: middle;\n",
       "    }\n",
       "\n",
       "    .dataframe tbody tr th {\n",
       "        vertical-align: top;\n",
       "    }\n",
       "\n",
       "    .dataframe thead th {\n",
       "        text-align: right;\n",
       "    }\n",
       "</style>\n",
       "<table border=\"1\" class=\"dataframe\">\n",
       "  <thead>\n",
       "    <tr style=\"text-align: right;\">\n",
       "      <th></th>\n",
       "      <th>date</th>\n",
       "      <th>date_count</th>\n",
       "      <th>avg_number_deaths</th>\n",
       "    </tr>\n",
       "  </thead>\n",
       "  <tbody>\n",
       "    <tr>\n",
       "      <th>0</th>\n",
       "      <td>2013-01-01</td>\n",
       "      <td>3</td>\n",
       "      <td>0.666667</td>\n",
       "    </tr>\n",
       "    <tr>\n",
       "      <th>1</th>\n",
       "      <td>2013-01-05</td>\n",
       "      <td>1</td>\n",
       "      <td>4.000000</td>\n",
       "    </tr>\n",
       "    <tr>\n",
       "      <th>2</th>\n",
       "      <td>2013-01-07</td>\n",
       "      <td>2</td>\n",
       "      <td>3.000000</td>\n",
       "    </tr>\n",
       "    <tr>\n",
       "      <th>3</th>\n",
       "      <td>2013-01-19</td>\n",
       "      <td>1</td>\n",
       "      <td>5.000000</td>\n",
       "    </tr>\n",
       "    <tr>\n",
       "      <th>4</th>\n",
       "      <td>2013-01-21</td>\n",
       "      <td>2</td>\n",
       "      <td>0.000000</td>\n",
       "    </tr>\n",
       "  </tbody>\n",
       "</table>\n",
       "</div>"
      ],
      "text/plain": [
       "         date  date_count  avg_number_deaths\n",
       "0  2013-01-01           3           0.666667\n",
       "1  2013-01-05           1           4.000000\n",
       "2  2013-01-07           2           3.000000\n",
       "3  2013-01-19           1           5.000000\n",
       "4  2013-01-21           2           0.000000"
      ]
     },
     "execution_count": 22,
     "metadata": {},
     "output_type": "execute_result"
    }
   ],
   "source": [
    "result.head()"
   ]
  },
  {
   "cell_type": "code",
   "execution_count": 23,
   "id": "f818c8ba",
   "metadata": {},
   "outputs": [
    {
     "name": "stdout",
     "output_type": "stream",
     "text": [
      "<class 'pandas.core.frame.DataFrame'>\n",
      "RangeIndex: 1725 entries, 0 to 1724\n",
      "Data columns (total 3 columns):\n",
      " #   Column             Non-Null Count  Dtype  \n",
      "---  ------             --------------  -----  \n",
      " 0   date               1725 non-null   object \n",
      " 1   date_count         1725 non-null   int64  \n",
      " 2   avg_number_deaths  1725 non-null   float64\n",
      "dtypes: float64(1), int64(1), object(1)\n",
      "memory usage: 40.6+ KB\n"
     ]
    }
   ],
   "source": [
    "result.info()"
   ]
  },
  {
   "cell_type": "code",
   "execution_count": 24,
   "id": "d7747129",
   "metadata": {},
   "outputs": [
    {
     "data": {
      "text/html": [
       "<div>\n",
       "<style scoped>\n",
       "    .dataframe tbody tr th:only-of-type {\n",
       "        vertical-align: middle;\n",
       "    }\n",
       "\n",
       "    .dataframe tbody tr th {\n",
       "        vertical-align: top;\n",
       "    }\n",
       "\n",
       "    .dataframe thead th {\n",
       "        text-align: right;\n",
       "    }\n",
       "</style>\n",
       "<table border=\"1\" class=\"dataframe\">\n",
       "  <thead>\n",
       "    <tr style=\"text-align: right;\">\n",
       "      <th></th>\n",
       "      <th>date_count</th>\n",
       "      <th>avg_number_deaths</th>\n",
       "    </tr>\n",
       "    <tr>\n",
       "      <th>datetime</th>\n",
       "      <th></th>\n",
       "      <th></th>\n",
       "    </tr>\n",
       "  </thead>\n",
       "  <tbody>\n",
       "    <tr>\n",
       "      <th>2013-01-01</th>\n",
       "      <td>3</td>\n",
       "      <td>0.666667</td>\n",
       "    </tr>\n",
       "    <tr>\n",
       "      <th>2013-01-05</th>\n",
       "      <td>1</td>\n",
       "      <td>4.000000</td>\n",
       "    </tr>\n",
       "    <tr>\n",
       "      <th>2013-01-07</th>\n",
       "      <td>2</td>\n",
       "      <td>3.000000</td>\n",
       "    </tr>\n",
       "    <tr>\n",
       "      <th>2013-01-19</th>\n",
       "      <td>1</td>\n",
       "      <td>5.000000</td>\n",
       "    </tr>\n",
       "    <tr>\n",
       "      <th>2013-01-21</th>\n",
       "      <td>2</td>\n",
       "      <td>0.000000</td>\n",
       "    </tr>\n",
       "  </tbody>\n",
       "</table>\n",
       "</div>"
      ],
      "text/plain": [
       "            date_count  avg_number_deaths\n",
       "datetime                                 \n",
       "2013-01-01           3           0.666667\n",
       "2013-01-05           1           4.000000\n",
       "2013-01-07           2           3.000000\n",
       "2013-01-19           1           5.000000\n",
       "2013-01-21           2           0.000000"
      ]
     },
     "execution_count": 24,
     "metadata": {},
     "output_type": "execute_result"
    }
   ],
   "source": [
    "# Set the \"Date\" column as the index\n",
    "\n",
    "from datetime import datetime\n",
    "\n",
    "result['datetime'] = pd.to_datetime(result['date']) # Create a datetime column from \"Date.\"\"\n",
    "result = result.set_index('datetime') # Set the datetime as the index of the dataframe.\n",
    "result.drop(['date'], axis=1, inplace=True) # Drop the \"Date\" column.\n",
    "result.head()"
   ]
  },
  {
   "cell_type": "code",
   "execution_count": 25,
   "id": "ffe4b20c",
   "metadata": {},
   "outputs": [
    {
     "data": {
      "text/plain": [
       "[<matplotlib.lines.Line2D at 0x14657af50>]"
      ]
     },
     "execution_count": 25,
     "metadata": {},
     "output_type": "execute_result"
    },
    {
     "data": {
      "image/png": "[encoded data removed]",
      "text/plain": [
       "<Figure size 1500x500 with 1 Axes>"
      ]
     },
     "metadata": {},
     "output_type": "display_data"
    }
   ],
   "source": [
    "# Plot the new data set\n",
    "\n",
    "plt.figure(figsize=(15,5), dpi=100)\n",
    "plt.plot(date_count)"
   ]
  },
  {
   "cell_type": "code",
   "execution_count": 26,
   "id": "9c1d395b",
   "metadata": {},
   "outputs": [],
   "source": [
    "# Dropping the date_count column\n",
    "result1 = result.drop(columns = ['date_count'])"
   ]
  },
  {
   "cell_type": "code",
   "execution_count": 27,
   "id": "e167b888",
   "metadata": {},
   "outputs": [
    {
     "data": {
      "text/html": [
       "<div>\n",
       "<style scoped>\n",
       "    .dataframe tbody tr th:only-of-type {\n",
       "        vertical-align: middle;\n",
       "    }\n",
       "\n",
       "    .dataframe tbody tr th {\n",
       "        vertical-align: top;\n",
       "    }\n",
       "\n",
       "    .dataframe thead th {\n",
       "        text-align: right;\n",
       "    }\n",
       "</style>\n",
       "<table border=\"1\" class=\"dataframe\">\n",
       "  <thead>\n",
       "    <tr style=\"text-align: right;\">\n",
       "      <th></th>\n",
       "      <th>avg_number_deaths</th>\n",
       "    </tr>\n",
       "    <tr>\n",
       "      <th>datetime</th>\n",
       "      <th></th>\n",
       "    </tr>\n",
       "  </thead>\n",
       "  <tbody>\n",
       "    <tr>\n",
       "      <th>2013-01-01</th>\n",
       "      <td>0.666667</td>\n",
       "    </tr>\n",
       "    <tr>\n",
       "      <th>2013-01-05</th>\n",
       "      <td>4.000000</td>\n",
       "    </tr>\n",
       "    <tr>\n",
       "      <th>2013-01-07</th>\n",
       "      <td>3.000000</td>\n",
       "    </tr>\n",
       "    <tr>\n",
       "      <th>2013-01-19</th>\n",
       "      <td>5.000000</td>\n",
       "    </tr>\n",
       "    <tr>\n",
       "      <th>2013-01-21</th>\n",
       "      <td>0.000000</td>\n",
       "    </tr>\n",
       "  </tbody>\n",
       "</table>\n",
       "</div>"
      ],
      "text/plain": [
       "            avg_number_deaths\n",
       "datetime                     \n",
       "2013-01-01           0.666667\n",
       "2013-01-05           4.000000\n",
       "2013-01-07           3.000000\n",
       "2013-01-19           5.000000\n",
       "2013-01-21           0.000000"
      ]
     },
     "execution_count": 27,
     "metadata": {},
     "output_type": "execute_result"
    }
   ],
   "source": [
    "result1.head()"
   ]
  },
  {
   "cell_type": "code",
   "execution_count": 29,
   "id": "28651ee8",
   "metadata": {},
   "outputs": [
    {
     "data": {
      "text/plain": [
       "[<matplotlib.lines.Line2D at 0x146652f50>]"
      ]
     },
     "execution_count": 29,
     "metadata": {},
     "output_type": "execute_result"
    },
    {
     "data": {
      "image/png": "[encoded data removed]",
      "text/plain": [
       "<Figure size 1500x500 with 1 Axes>"
      ]
     },
     "metadata": {},
     "output_type": "display_data"
    }
   ],
   "source": [
    "# Plot the new data set\n",
    "\n",
    "plt.figure(figsize=(15,5), dpi=100)\n",
    "plt.plot(result1)"
   ]
  },
  {
   "cell_type": "markdown",
   "id": "0a0f6f98",
   "metadata": {},
   "source": [
    "Looking at this trend, it is noticeable that the average number of deaths seem to be much higher between 2013 and 2014 than the other years represented by the dataframe."
   ]
  },
  {
   "cell_type": "code",
   "execution_count": 30,
   "id": "778662b9",
   "metadata": {},
   "outputs": [],
   "source": [
    "# Average number_injured per day\n",
    "avg_number_injured_daily = df_gun.groupby('date')['number_injured'].mean()"
   ]
  },
  {
   "cell_type": "code",
   "execution_count": 31,
   "id": "f42ee3b4",
   "metadata": {},
   "outputs": [
    {
     "data": {
      "text/plain": [
       "date\n",
       "2013-01-01    3.333333\n",
       "2013-01-05    0.000000\n",
       "2013-01-07    1.000000\n",
       "2013-01-19    0.000000\n",
       "2013-01-21    4.500000\n",
       "                ...   \n",
       "2018-03-27    0.425532\n",
       "2018-03-28    0.398374\n",
       "2018-03-29    0.515789\n",
       "2018-03-30    0.416667\n",
       "2018-03-31    0.552941\n",
       "Name: number_injured, Length: 1725, dtype: float64"
      ]
     },
     "execution_count": 31,
     "metadata": {},
     "output_type": "execute_result"
    }
   ],
   "source": [
    "avg_number_injured_daily"
   ]
  },
  {
   "cell_type": "code",
   "execution_count": 32,
   "id": "f7f67357",
   "metadata": {},
   "outputs": [],
   "source": [
    "# merging both subsets\n",
    "result2 = pd.DataFrame({'date': date_count.index, 'date_count': date_count.values, 'avg_number_injuries': avg_number_injured_daily.values})"
   ]
  },
  {
   "cell_type": "code",
   "execution_count": 33,
   "id": "488c1d83",
   "metadata": {},
   "outputs": [
    {
     "data": {
      "text/html": [
       "<div>\n",
       "<style scoped>\n",
       "    .dataframe tbody tr th:only-of-type {\n",
       "        vertical-align: middle;\n",
       "    }\n",
       "\n",
       "    .dataframe tbody tr th {\n",
       "        vertical-align: top;\n",
       "    }\n",
       "\n",
       "    .dataframe thead th {\n",
       "        text-align: right;\n",
       "    }\n",
       "</style>\n",
       "<table border=\"1\" class=\"dataframe\">\n",
       "  <thead>\n",
       "    <tr style=\"text-align: right;\">\n",
       "      <th></th>\n",
       "      <th>date</th>\n",
       "      <th>date_count</th>\n",
       "      <th>avg_number_injuries</th>\n",
       "    </tr>\n",
       "  </thead>\n",
       "  <tbody>\n",
       "    <tr>\n",
       "      <th>0</th>\n",
       "      <td>2013-01-01</td>\n",
       "      <td>3</td>\n",
       "      <td>3.333333</td>\n",
       "    </tr>\n",
       "    <tr>\n",
       "      <th>1</th>\n",
       "      <td>2013-01-05</td>\n",
       "      <td>1</td>\n",
       "      <td>0.000000</td>\n",
       "    </tr>\n",
       "    <tr>\n",
       "      <th>2</th>\n",
       "      <td>2013-01-07</td>\n",
       "      <td>2</td>\n",
       "      <td>1.000000</td>\n",
       "    </tr>\n",
       "    <tr>\n",
       "      <th>3</th>\n",
       "      <td>2013-01-19</td>\n",
       "      <td>1</td>\n",
       "      <td>0.000000</td>\n",
       "    </tr>\n",
       "    <tr>\n",
       "      <th>4</th>\n",
       "      <td>2013-01-21</td>\n",
       "      <td>2</td>\n",
       "      <td>4.500000</td>\n",
       "    </tr>\n",
       "  </tbody>\n",
       "</table>\n",
       "</div>"
      ],
      "text/plain": [
       "         date  date_count  avg_number_injuries\n",
       "0  2013-01-01           3             3.333333\n",
       "1  2013-01-05           1             0.000000\n",
       "2  2013-01-07           2             1.000000\n",
       "3  2013-01-19           1             0.000000\n",
       "4  2013-01-21           2             4.500000"
      ]
     },
     "execution_count": 33,
     "metadata": {},
     "output_type": "execute_result"
    }
   ],
   "source": [
    "result2.head()"
   ]
  },
  {
   "cell_type": "code",
   "execution_count": 34,
   "id": "47f77e6f",
   "metadata": {},
   "outputs": [
    {
     "data": {
      "text/html": [
       "<div>\n",
       "<style scoped>\n",
       "    .dataframe tbody tr th:only-of-type {\n",
       "        vertical-align: middle;\n",
       "    }\n",
       "\n",
       "    .dataframe tbody tr th {\n",
       "        vertical-align: top;\n",
       "    }\n",
       "\n",
       "    .dataframe thead th {\n",
       "        text-align: right;\n",
       "    }\n",
       "</style>\n",
       "<table border=\"1\" class=\"dataframe\">\n",
       "  <thead>\n",
       "    <tr style=\"text-align: right;\">\n",
       "      <th></th>\n",
       "      <th>date_count</th>\n",
       "      <th>avg_number_injuries</th>\n",
       "    </tr>\n",
       "    <tr>\n",
       "      <th>datetime</th>\n",
       "      <th></th>\n",
       "      <th></th>\n",
       "    </tr>\n",
       "  </thead>\n",
       "  <tbody>\n",
       "    <tr>\n",
       "      <th>2013-01-01</th>\n",
       "      <td>3</td>\n",
       "      <td>3.333333</td>\n",
       "    </tr>\n",
       "    <tr>\n",
       "      <th>2013-01-05</th>\n",
       "      <td>1</td>\n",
       "      <td>0.000000</td>\n",
       "    </tr>\n",
       "    <tr>\n",
       "      <th>2013-01-07</th>\n",
       "      <td>2</td>\n",
       "      <td>1.000000</td>\n",
       "    </tr>\n",
       "    <tr>\n",
       "      <th>2013-01-19</th>\n",
       "      <td>1</td>\n",
       "      <td>0.000000</td>\n",
       "    </tr>\n",
       "    <tr>\n",
       "      <th>2013-01-21</th>\n",
       "      <td>2</td>\n",
       "      <td>4.500000</td>\n",
       "    </tr>\n",
       "  </tbody>\n",
       "</table>\n",
       "</div>"
      ],
      "text/plain": [
       "            date_count  avg_number_injuries\n",
       "datetime                                   \n",
       "2013-01-01           3             3.333333\n",
       "2013-01-05           1             0.000000\n",
       "2013-01-07           2             1.000000\n",
       "2013-01-19           1             0.000000\n",
       "2013-01-21           2             4.500000"
      ]
     },
     "execution_count": 34,
     "metadata": {},
     "output_type": "execute_result"
    }
   ],
   "source": [
    "# Set the \"Date\" column as the index\n",
    "\n",
    "from datetime import datetime\n",
    "\n",
    "result2['datetime'] = pd.to_datetime(result2['date']) # Create a datetime column from \"Date.\"\"\n",
    "result2 = result2.set_index('datetime') # Set the datetime as the index of the dataframe.\n",
    "result2.drop(['date'], axis=1, inplace=True) # Drop the \"Date\" column.\n",
    "result2.head()"
   ]
  },
  {
   "cell_type": "code",
   "execution_count": 35,
   "id": "623c009a",
   "metadata": {},
   "outputs": [],
   "source": [
    "# Dropping the date_count column\n",
    "result3 = result2.drop(columns = ['date_count'])"
   ]
  },
  {
   "cell_type": "code",
   "execution_count": 36,
   "id": "96f5b6ac",
   "metadata": {},
   "outputs": [
    {
     "data": {
      "text/html": [
       "<div>\n",
       "<style scoped>\n",
       "    .dataframe tbody tr th:only-of-type {\n",
       "        vertical-align: middle;\n",
       "    }\n",
       "\n",
       "    .dataframe tbody tr th {\n",
       "        vertical-align: top;\n",
       "    }\n",
       "\n",
       "    .dataframe thead th {\n",
       "        text-align: right;\n",
       "    }\n",
       "</style>\n",
       "<table border=\"1\" class=\"dataframe\">\n",
       "  <thead>\n",
       "    <tr style=\"text-align: right;\">\n",
       "      <th></th>\n",
       "      <th>avg_number_injuries</th>\n",
       "    </tr>\n",
       "    <tr>\n",
       "      <th>datetime</th>\n",
       "      <th></th>\n",
       "    </tr>\n",
       "  </thead>\n",
       "  <tbody>\n",
       "    <tr>\n",
       "      <th>2013-01-01</th>\n",
       "      <td>3.333333</td>\n",
       "    </tr>\n",
       "    <tr>\n",
       "      <th>2013-01-05</th>\n",
       "      <td>0.000000</td>\n",
       "    </tr>\n",
       "    <tr>\n",
       "      <th>2013-01-07</th>\n",
       "      <td>1.000000</td>\n",
       "    </tr>\n",
       "    <tr>\n",
       "      <th>2013-01-19</th>\n",
       "      <td>0.000000</td>\n",
       "    </tr>\n",
       "    <tr>\n",
       "      <th>2013-01-21</th>\n",
       "      <td>4.500000</td>\n",
       "    </tr>\n",
       "  </tbody>\n",
       "</table>\n",
       "</div>"
      ],
      "text/plain": [
       "            avg_number_injuries\n",
       "datetime                       \n",
       "2013-01-01             3.333333\n",
       "2013-01-05             0.000000\n",
       "2013-01-07             1.000000\n",
       "2013-01-19             0.000000\n",
       "2013-01-21             4.500000"
      ]
     },
     "execution_count": 36,
     "metadata": {},
     "output_type": "execute_result"
    }
   ],
   "source": [
    "result3.head()"
   ]
  },
  {
   "cell_type": "code",
   "execution_count": 37,
   "id": "b89e017b",
   "metadata": {},
   "outputs": [
    {
     "data": {
      "text/plain": [
       "[<matplotlib.lines.Line2D at 0x1466e8550>]"
      ]
     },
     "execution_count": 37,
     "metadata": {},
     "output_type": "execute_result"
    },
    {
     "data": {
      "image/png": "[encoded data removed]",
      "text/plain": [
       "<Figure size 1500x500 with 1 Axes>"
      ]
     },
     "metadata": {},
     "output_type": "display_data"
    }
   ],
   "source": [
    "# Plot the new data set\n",
    "\n",
    "plt.figure(figsize=(15,5), dpi=100)\n",
    "plt.plot(result3)"
   ]
  },
  {
   "cell_type": "markdown",
   "id": "b5aba084",
   "metadata": {},
   "source": [
    "The overall trend here is also similar to the previous chart as the number of injuries declined sharply from 2014 onwards."
   ]
  },
  {
   "cell_type": "code",
   "execution_count": 38,
   "id": "837a6ca1",
   "metadata": {},
   "outputs": [],
   "source": [
    "# Average number_guns_involved per day\n",
    "avg_number_firearms_daily = df_gun.groupby('date')['number_guns_involved'].mean()"
   ]
  },
  {
   "cell_type": "code",
   "execution_count": 40,
   "id": "d1c807a3",
   "metadata": {},
   "outputs": [
    {
     "data": {
      "text/plain": [
       "date\n",
       "2013-01-01    1.533333\n",
       "2013-01-05    1.300000\n",
       "2013-01-07    1.650000\n",
       "2013-01-19    2.000000\n",
       "2013-01-21    1.300000\n",
       "                ...   \n",
       "2018-03-27    1.212766\n",
       "2018-03-28    1.154472\n",
       "2018-03-29    1.340000\n",
       "2018-03-30    1.178571\n",
       "2018-03-31    1.047059\n",
       "Name: number_guns_involved, Length: 1725, dtype: float64"
      ]
     },
     "execution_count": 40,
     "metadata": {},
     "output_type": "execute_result"
    }
   ],
   "source": [
    "avg_number_firearms_daily"
   ]
  },
  {
   "cell_type": "code",
   "execution_count": 41,
   "id": "57550cd5",
   "metadata": {},
   "outputs": [],
   "source": [
    "# merging both subsets\n",
    "result4 = pd.DataFrame({'date': date_count.index, 'date_count': date_count.values, 'avg_number_firearms': avg_number_firearms_daily.values})"
   ]
  },
  {
   "cell_type": "code",
   "execution_count": 42,
   "id": "b5f48fea",
   "metadata": {},
   "outputs": [
    {
     "data": {
      "text/html": [
       "<div>\n",
       "<style scoped>\n",
       "    .dataframe tbody tr th:only-of-type {\n",
       "        vertical-align: middle;\n",
       "    }\n",
       "\n",
       "    .dataframe tbody tr th {\n",
       "        vertical-align: top;\n",
       "    }\n",
       "\n",
       "    .dataframe thead th {\n",
       "        text-align: right;\n",
       "    }\n",
       "</style>\n",
       "<table border=\"1\" class=\"dataframe\">\n",
       "  <thead>\n",
       "    <tr style=\"text-align: right;\">\n",
       "      <th></th>\n",
       "      <th>date</th>\n",
       "      <th>date_count</th>\n",
       "      <th>avg_number_firearms</th>\n",
       "    </tr>\n",
       "  </thead>\n",
       "  <tbody>\n",
       "    <tr>\n",
       "      <th>0</th>\n",
       "      <td>2013-01-01</td>\n",
       "      <td>3</td>\n",
       "      <td>1.533333</td>\n",
       "    </tr>\n",
       "    <tr>\n",
       "      <th>1</th>\n",
       "      <td>2013-01-05</td>\n",
       "      <td>1</td>\n",
       "      <td>1.300000</td>\n",
       "    </tr>\n",
       "    <tr>\n",
       "      <th>2</th>\n",
       "      <td>2013-01-07</td>\n",
       "      <td>2</td>\n",
       "      <td>1.650000</td>\n",
       "    </tr>\n",
       "    <tr>\n",
       "      <th>3</th>\n",
       "      <td>2013-01-19</td>\n",
       "      <td>1</td>\n",
       "      <td>2.000000</td>\n",
       "    </tr>\n",
       "    <tr>\n",
       "      <th>4</th>\n",
       "      <td>2013-01-21</td>\n",
       "      <td>2</td>\n",
       "      <td>1.300000</td>\n",
       "    </tr>\n",
       "  </tbody>\n",
       "</table>\n",
       "</div>"
      ],
      "text/plain": [
       "         date  date_count  avg_number_firearms\n",
       "0  2013-01-01           3             1.533333\n",
       "1  2013-01-05           1             1.300000\n",
       "2  2013-01-07           2             1.650000\n",
       "3  2013-01-19           1             2.000000\n",
       "4  2013-01-21           2             1.300000"
      ]
     },
     "execution_count": 42,
     "metadata": {},
     "output_type": "execute_result"
    }
   ],
   "source": [
    "result4.head()"
   ]
  },
  {
   "cell_type": "code",
   "execution_count": 43,
   "id": "06f5dd3b",
   "metadata": {},
   "outputs": [
    {
     "data": {
      "text/html": [
       "<div>\n",
       "<style scoped>\n",
       "    .dataframe tbody tr th:only-of-type {\n",
       "        vertical-align: middle;\n",
       "    }\n",
       "\n",
       "    .dataframe tbody tr th {\n",
       "        vertical-align: top;\n",
       "    }\n",
       "\n",
       "    .dataframe thead th {\n",
       "        text-align: right;\n",
       "    }\n",
       "</style>\n",
       "<table border=\"1\" class=\"dataframe\">\n",
       "  <thead>\n",
       "    <tr style=\"text-align: right;\">\n",
       "      <th></th>\n",
       "      <th>date_count</th>\n",
       "      <th>avg_number_firearms</th>\n",
       "    </tr>\n",
       "    <tr>\n",
       "      <th>datetime</th>\n",
       "      <th></th>\n",
       "      <th></th>\n",
       "    </tr>\n",
       "  </thead>\n",
       "  <tbody>\n",
       "    <tr>\n",
       "      <th>2013-01-01</th>\n",
       "      <td>3</td>\n",
       "      <td>1.533333</td>\n",
       "    </tr>\n",
       "    <tr>\n",
       "      <th>2013-01-05</th>\n",
       "      <td>1</td>\n",
       "      <td>1.300000</td>\n",
       "    </tr>\n",
       "    <tr>\n",
       "      <th>2013-01-07</th>\n",
       "      <td>2</td>\n",
       "      <td>1.650000</td>\n",
       "    </tr>\n",
       "    <tr>\n",
       "      <th>2013-01-19</th>\n",
       "      <td>1</td>\n",
       "      <td>2.000000</td>\n",
       "    </tr>\n",
       "    <tr>\n",
       "      <th>2013-01-21</th>\n",
       "      <td>2</td>\n",
       "      <td>1.300000</td>\n",
       "    </tr>\n",
       "  </tbody>\n",
       "</table>\n",
       "</div>"
      ],
      "text/plain": [
       "            date_count  avg_number_firearms\n",
       "datetime                                   \n",
       "2013-01-01           3             1.533333\n",
       "2013-01-05           1             1.300000\n",
       "2013-01-07           2             1.650000\n",
       "2013-01-19           1             2.000000\n",
       "2013-01-21           2             1.300000"
      ]
     },
     "execution_count": 43,
     "metadata": {},
     "output_type": "execute_result"
    }
   ],
   "source": [
    "# Set the \"Date\" column as the index\n",
    "\n",
    "from datetime import datetime\n",
    "\n",
    "result4['datetime'] = pd.to_datetime(result4['date']) # Create a datetime column from \"Date.\"\"\n",
    "result4 = result4.set_index('datetime') # Set the datetime as the index of the dataframe.\n",
    "result4.drop(['date'], axis=1, inplace=True) # Drop the \"Date\" column.\n",
    "result4.head()"
   ]
  },
  {
   "cell_type": "code",
   "execution_count": 44,
   "id": "a60b6a75",
   "metadata": {},
   "outputs": [],
   "source": [
    "# Dropping the date_count column\n",
    "result5 = result4.drop(columns = ['date_count'])"
   ]
  },
  {
   "cell_type": "code",
   "execution_count": 45,
   "id": "8fd31695",
   "metadata": {},
   "outputs": [
    {
     "data": {
      "text/html": [
       "<div>\n",
       "<style scoped>\n",
       "    .dataframe tbody tr th:only-of-type {\n",
       "        vertical-align: middle;\n",
       "    }\n",
       "\n",
       "    .dataframe tbody tr th {\n",
       "        vertical-align: top;\n",
       "    }\n",
       "\n",
       "    .dataframe thead th {\n",
       "        text-align: right;\n",
       "    }\n",
       "</style>\n",
       "<table border=\"1\" class=\"dataframe\">\n",
       "  <thead>\n",
       "    <tr style=\"text-align: right;\">\n",
       "      <th></th>\n",
       "      <th>avg_number_firearms</th>\n",
       "    </tr>\n",
       "    <tr>\n",
       "      <th>datetime</th>\n",
       "      <th></th>\n",
       "    </tr>\n",
       "  </thead>\n",
       "  <tbody>\n",
       "    <tr>\n",
       "      <th>2013-01-01</th>\n",
       "      <td>1.533333</td>\n",
       "    </tr>\n",
       "    <tr>\n",
       "      <th>2013-01-05</th>\n",
       "      <td>1.300000</td>\n",
       "    </tr>\n",
       "    <tr>\n",
       "      <th>2013-01-07</th>\n",
       "      <td>1.650000</td>\n",
       "    </tr>\n",
       "    <tr>\n",
       "      <th>2013-01-19</th>\n",
       "      <td>2.000000</td>\n",
       "    </tr>\n",
       "    <tr>\n",
       "      <th>2013-01-21</th>\n",
       "      <td>1.300000</td>\n",
       "    </tr>\n",
       "  </tbody>\n",
       "</table>\n",
       "</div>"
      ],
      "text/plain": [
       "            avg_number_firearms\n",
       "datetime                       \n",
       "2013-01-01             1.533333\n",
       "2013-01-05             1.300000\n",
       "2013-01-07             1.650000\n",
       "2013-01-19             2.000000\n",
       "2013-01-21             1.300000"
      ]
     },
     "execution_count": 45,
     "metadata": {},
     "output_type": "execute_result"
    }
   ],
   "source": [
    "result5.head()"
   ]
  },
  {
   "cell_type": "code",
   "execution_count": 46,
   "id": "60900cdd",
   "metadata": {},
   "outputs": [
    {
     "data": {
      "text/plain": [
       "[<matplotlib.lines.Line2D at 0x146744a10>]"
      ]
     },
     "execution_count": 46,
     "metadata": {},
     "output_type": "execute_result"
    },
    {
     "data": {
      "image/png": "[encoded data removed]",
      "text/plain": [
       "<Figure size 1500x500 with 1 Axes>"
      ]
     },
     "metadata": {},
     "output_type": "display_data"
    }
   ],
   "source": [
    "# Plot the new data set\n",
    "\n",
    "plt.figure(figsize=(15,5), dpi=100)\n",
    "plt.plot(result5)"
   ]
  },
  {
   "cell_type": "markdown",
   "id": "9258f877",
   "metadata": {},
   "source": [
    "The trend here looks different from the previous charts as there are peaks at different periods in the timeframe. The period with the highest instances of firearms involvement overall seems to be between 2015 to mid-2016. There seems to be an overall drop and more stable instances from mid 2016 till 2018"
   ]
  },
  {
   "cell_type": "markdown",
   "id": "eec07136",
   "metadata": {},
   "source": [
    "## Answering Other Key Questions"
   ]
  },
  {
   "cell_type": "code",
   "execution_count": 47,
   "id": "e695feae",
   "metadata": {
    "scrolled": true
   },
   "outputs": [
    {
     "data": {
      "text/plain": [
       "NaN                                  90242\n",
       "0::24                                 3695\n",
       "0::22                                 3609\n",
       "0::23                                 3606\n",
       "0::19                                 3597\n",
       "                                     ...  \n",
       "0::23||1::19||2::15                      1\n",
       "0::17||1::8                              1\n",
       "0::45||1::23||2::21||3::19               1\n",
       "0::27||1::20||2::17||3::16||4::16        1\n",
       "0::56||1::59||2::58                      1\n",
       "Name: participant_age, Length: 18173, dtype: int64"
      ]
     },
     "execution_count": 47,
     "metadata": {},
     "output_type": "execute_result"
    }
   ],
   "source": [
    "# Answering the key question 'Are there demographic patterns in the victims and perpetrators of gun violence (age, gender)?'\n",
    "df_gun['participant_age'].value_counts(dropna=False)"
   ]
  },
  {
   "cell_type": "markdown",
   "id": "5f507b1c",
   "metadata": {},
   "source": [
    "The majority of gun violence perpetrators seems to be between the ages of 19 to 24."
   ]
  },
  {
   "cell_type": "code",
   "execution_count": 48,
   "id": "e421c3d3",
   "metadata": {},
   "outputs": [
    {
     "data": {
      "text/plain": [
       "0::Male                                                                                         90565\n",
       "0::Male||1::Male                                                                                41559\n",
       "NaN                                                                                             35538\n",
       "0::Male||1::Male||2::Male                                                                       11824\n",
       "0::Female||1::Male                                                                              10177\n",
       "                                                                                                ...  \n",
       "0::Female||7::Male                                                                                  1\n",
       "1::Male||2::Male||3::Female||4::Male||5::Male                                                       1\n",
       "0::Female||1::Male||2::Female||3::Female||4::Male||5::Male||6::Male||7::Male                        1\n",
       "7::Male||8::Male                                                                                    1\n",
       "0::Male||1::Male||2::Male||3::Female||4::Male||5::Female||6::Male||7::Male||8::Male||9::Male        1\n",
       "Name: participant_gender, Length: 855, dtype: int64"
      ]
     },
     "execution_count": 48,
     "metadata": {},
     "output_type": "execute_result"
    }
   ],
   "source": [
    "df_gun['participant_gender'].value_counts(dropna=False)"
   ]
  },
  {
   "cell_type": "markdown",
   "id": "18306d0f",
   "metadata": {},
   "source": [
    "Looking at the results, there seems to be an overwhelming majority of incidents involving Males."
   ]
  },
  {
   "cell_type": "code",
   "execution_count": null,
   "id": "39e71d0c",
   "metadata": {},
   "outputs": [],
   "source": []
  }
 ],
 "metadata": {
  "kernelspec": {
   "display_name": "Python 3 (ipykernel)",
   "language": "python",
   "name": "python3"
  },
  "language_info": {
   "codemirror_mode": {
    "name": "ipython",
    "version": 3
   },
   "file_extension": ".py",
   "mimetype": "text/x-python",
   "name": "python",
   "nbconvert_exporter": "python",
   "pygments_lexer": "ipython3",
   "version": "3.11.3"
  }
 },
 "nbformat": 4,
 "nbformat_minor": 5
}
